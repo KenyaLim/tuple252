{
 "cells": [
  {
   "cell_type": "code",
   "execution_count": 3,
   "id": "5991c03e",
   "metadata": {},
   "outputs": [
    {
     "name": "stdout",
     "output_type": "stream",
     "text": [
      "True\n"
     ]
    }
   ],
   "source": [
    "def semua_sama(tup):\n",
    "    return all(x == tup[0] for x in tup)\n",
    "\n",
    "tA = (90, 90, 90, 90)\n",
    "print(semua_sama(tA))  "
   ]
  },
  {
   "cell_type": "code",
   "execution_count": 4,
   "id": "717d7611",
   "metadata": {},
   "outputs": [
    {
     "name": "stdout",
     "output_type": "stream",
     "text": [
      "NIM : 22064091\n",
      "NAMA : Matahari Bhakti Nendya\n",
      "ALAMAT : Bantul, DI Yogyakarta\n",
      "NIM: ('2', '2', '0', '6', '4', '0', '9', '1')\n",
      "NAMA DEPAN: ('m', 'a', 't', 'a', 'h', 'a', 'r', 'i')\n",
      "NAMA TERBALIK: ('Nendya', 'Bhakti', 'Matahari')\n"
     ]
    }
   ],
   "source": [
    "data_diri = ('Matahari Bhakti Nendya', '22064091', 'Bantul, DI Yogyakarta')\n",
    "\n",
    "nama, nim, alamat = data_diri\n",
    "\n",
    "print(\"NIM :\", nim)\n",
    "print(\"NAMA :\", nama)\n",
    "print(\"ALAMAT :\", alamat)\n",
    "\n",
    "nim_tuple = tuple(nim)\n",
    "print(\"NIM:\", nim_tuple)\n",
    "\n",
    "nama_depan = nama.split()[0].lower()\n",
    "nama_depan_tuple = tuple(nama_depan)\n",
    "print(\"NAMA DEPAN:\", nama_depan_tuple)\n",
    "\n",
    "nama_terbalik = tuple(nama.split()[::-1])\n",
    "print(\"NAMA TERBALIK:\", nama_terbalik)"
   ]
  },
  {
   "cell_type": "code",
   "execution_count": null,
   "id": "d396d7f8",
   "metadata": {},
   "outputs": [],
   "source": [
    "def hitung_distribusi_jam(filename):\n",
    "    jam_distribusi = {}\n",
    "    \n",
    "    try:\n",
    "        with open(filename, 'r') as file:\n",
    "            for line in file:\n",
    "                if line.startswith('From '):\n",
    "                    words = line.split()\n",
    "                    if len(words) > 5:\n",
    "                        time = words[5]\n",
    "                        jam = time.split(':')[0]\n",
    "                        jam_distribusi[jam] = jam_distribusi.get(jam, 0) + 1\n",
    "                        \n",
    "        for jam in sorted(jam_distribusi):\n",
    "            print(jam, jam_distribusi[jam])\n",
    "            \n",
    "    except FileNotFoundError:\n",
    "        print(\"File tidak ditemukan\")\n",
    "\n",
    "nama_file = input(\"Enter a file name: \")\n",
    "hitung_distribusi_jam(nama_file)"
   ]
  }
 ],
 "metadata": {
  "kernelspec": {
   "display_name": "Python 3",
   "language": "python",
   "name": "python3"
  },
  "language_info": {
   "codemirror_mode": {
    "name": "ipython",
    "version": 3
   },
   "file_extension": ".py",
   "mimetype": "text/x-python",
   "name": "python",
   "nbconvert_exporter": "python",
   "pygments_lexer": "ipython3",
   "version": "3.12.5"
  }
 },
 "nbformat": 4,
 "nbformat_minor": 5
}
